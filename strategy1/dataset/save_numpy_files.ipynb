{
 "cells": [
  {
   "cell_type": "code",
   "execution_count": 1,
   "metadata": {},
   "outputs": [],
   "source": [
    "import pandas as pd\n",
    "from matplotlib import pyplot\n",
    "import numpy as np\n",
    "import os\n",
    "\n",
    "files = os.listdir(\"/home/vaibhavmishra/adult_approve/strategy1/dataset/dataset/features/val\")\n"
   ]
  },
  {
   "cell_type": "code",
   "execution_count": 2,
   "metadata": {},
   "outputs": [
    {
     "name": "stdout",
     "output_type": "stream",
     "text": [
      "['000000000009_val.csv', '000000000010_val.csv', '000000000008_val.csv', '000000000013_val.csv', '000000000014_val.csv', '000000000017_val.csv', '000000000011_val.csv', '000000000003_val.csv', '000000000001_val.csv', '000000000006_val.csv', '000000000004_val.csv', '000000000007_val.csv', '000000000002_val.csv', '000000000016_val.csv', '000000000005_val.csv', '000000000000_val.csv', '000000000012_val.csv', '000000000015_val.csv']\n"
     ]
    }
   ],
   "source": [
    "print(files)"
   ]
  },
  {
   "cell_type": "code",
   "execution_count": 3,
   "metadata": {},
   "outputs": [
    {
     "data": {
      "text/plain": [
       "18"
      ]
     },
     "execution_count": 3,
     "metadata": {},
     "output_type": "execute_result"
    }
   ],
   "source": [
    "len(files)"
   ]
  },
  {
   "cell_type": "code",
   "execution_count": null,
   "metadata": {},
   "outputs": [],
   "source": [
    "\n"
   ]
  },
  {
   "cell_type": "code",
   "execution_count": null,
   "metadata": {},
   "outputs": [],
   "source": []
  },
  {
   "cell_type": "code",
   "execution_count": 4,
   "metadata": {},
   "outputs": [
    {
     "name": "stdout",
     "output_type": "stream",
     "text": [
      "000000000009_val.csv\n",
      "9360\n",
      "000000000010_val.csv\n",
      "9406\n",
      "000000000008_val.csv\n",
      "9389\n",
      "000000000013_val.csv\n",
      "9298\n",
      "000000000014_val.csv\n",
      "9365\n",
      "000000000017_val.csv\n",
      "9398\n",
      "000000000011_val.csv\n",
      "9468\n",
      "000000000003_val.csv\n",
      "9674\n",
      "000000000001_val.csv\n",
      "9440\n",
      "000000000006_val.csv\n",
      "9325\n",
      "000000000004_val.csv\n",
      "9433\n",
      "000000000007_val.csv\n",
      "9552\n",
      "000000000002_val.csv\n",
      "9444\n",
      "000000000016_val.csv\n",
      "9284\n",
      "000000000005_val.csv\n",
      "9368\n",
      "000000000000_val.csv\n",
      "9441\n",
      "000000000012_val.csv\n",
      "9606\n",
      "000000000015_val.csv\n",
      "9446\n"
     ]
    }
   ],
   "source": [
    "import json\n",
    "\n",
    "for f in files:\n",
    "    df = pd.read_csv(\"/home/vaibhavmishra/adult_approve/strategy1/dataset/dataset/features/val/\" + f)\n",
    "    print(f)\n",
    "    print(len(df))\n",
    "    for i in range(len(df)):\n",
    "        postId = df.iloc[i, 0]\n",
    "        filename = str(postId) + \".npy\"\n",
    "\n",
    "        try:\n",
    "            features = df.iloc[i, 1]\n",
    "            features = json.loads(features)\n",
    "            clip_feats = features[\"visual_features\"][\"clip\"]\n",
    "            filename = str(postId) + \".npy\"\n",
    "            np.save(\"/home/vaibhavmishra/adult_approve/strategy1/dataset/dataset/features/val_npy/clip/\" + filename, clip_feats)\n",
    "\n",
    "        except:\n",
    "            print(\"failed \", postId)\n"
   ]
  },
  {
   "cell_type": "code",
   "execution_count": null,
   "metadata": {},
   "outputs": [],
   "source": []
  }
 ],
 "metadata": {
  "kernelspec": {
   "display_name": "base",
   "language": "python",
   "name": "python3"
  },
  "language_info": {
   "codemirror_mode": {
    "name": "ipython",
    "version": 3
   },
   "file_extension": ".py",
   "mimetype": "text/x-python",
   "name": "python",
   "nbconvert_exporter": "python",
   "pygments_lexer": "ipython3",
   "version": "3.9.16"
  },
  "orig_nbformat": 4
 },
 "nbformat": 4,
 "nbformat_minor": 2
}
